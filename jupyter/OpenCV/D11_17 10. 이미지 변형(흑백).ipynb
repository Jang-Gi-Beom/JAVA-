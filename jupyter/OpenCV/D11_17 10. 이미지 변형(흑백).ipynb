{
 "cells": [
  {
   "cell_type": "markdown",
   "id": "69fb46f8",
   "metadata": {},
   "source": [
    "# 10. 이미지 변형(흑백)\n",
    "\n",
    "\n",
    "불필요한 부분을 걸러내는 작업\n",
    "\n",
    "불러온 이미지를 흑백으로 변경"
   ]
  },
  {
   "cell_type": "code",
   "execution_count": 1,
   "id": "66a81660",
   "metadata": {},
   "outputs": [],
   "source": [
    "import cv2\n",
    "img = cv2.imread('img.jpg',cv2.IMREAD_GRAYSCALE)\n",
    "# 이미지를 불러오면서 흑백으로 변경\n",
    "cv2.imshow('img',img)\n",
    "cv2.waitKey(0)\n",
    "cv2.destroyAllWindows()"
   ]
  },
  {
   "cell_type": "code",
   "execution_count": 3,
   "id": "026218fa",
   "metadata": {},
   "outputs": [],
   "source": [
    "import cv2\n",
    "img = cv2.imread('img.jpg')\n",
    "# 원본그대로 컬러로 받아 옴\n",
    "\n",
    "dst = cv2.cvtColor(img,cv2.COLOR_BGR2GRAY)\n",
    "# 컬러로 받아 온 이미지를 흑백으로 변경\n",
    "cv2.imshow('img',img)\n",
    "cv2.imshow('gray',dst)\n",
    "cv2.waitKey(0)\n",
    "cv2.destroyAllWindows()"
   ]
  },
  {
   "cell_type": "code",
   "execution_count": null,
   "id": "c68775eb",
   "metadata": {},
   "outputs": [],
   "source": []
  }
 ],
 "metadata": {
  "kernelspec": {
   "display_name": "Python 3 (ipykernel)",
   "language": "python",
   "name": "python3"
  },
  "language_info": {
   "codemirror_mode": {
    "name": "ipython",
    "version": 3
   },
   "file_extension": ".py",
   "mimetype": "text/x-python",
   "name": "python",
   "nbconvert_exporter": "python",
   "pygments_lexer": "ipython3",
   "version": "3.9.12"
  }
 },
 "nbformat": 4,
 "nbformat_minor": 5
}
