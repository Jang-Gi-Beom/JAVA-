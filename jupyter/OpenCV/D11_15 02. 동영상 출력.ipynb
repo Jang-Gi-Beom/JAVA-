{
 "cells": [
  {
   "cell_type": "markdown",
   "id": "57f836ea",
   "metadata": {},
   "source": [
    "# 2. 동영상 출력"
   ]
  },
  {
   "cell_type": "markdown",
   "id": "94a9d5df",
   "metadata": {},
   "source": [
    "## 동영상 파일 출력"
   ]
  },
  {
   "cell_type": "code",
   "execution_count": 2,
   "id": "8548e3f2",
   "metadata": {},
   "outputs": [
    {
     "name": "stdout",
     "output_type": "stream",
     "text": [
      "사용자 입력에 의해 종료합니다.\n"
     ]
    }
   ],
   "source": [
    "import cv2\n",
    "cap = cv2.VideoCapture('video.mp4') # 비디오 파일을 읽어와서 변수 삽입\n",
    "\n",
    "while cap.isOpened() : # 동영상 파일이 올바르게 열렸는지?\n",
    "    ret,frame = cap.read() # ret : 성공여부(True or False), frame: 받아온 이미지(프레임)\n",
    "    if not ret:\n",
    "        # ret값이 False라면 밑에 문자 출력 후 반복문 종료\n",
    "        print(\"더 이상 가져올 프레임이 없어요\")\n",
    "        break\n",
    "        \n",
    "    cv2.imshow('video',frame) # 창에 frame 출력\n",
    "    \n",
    "    if cv2.waitKey(1) == ord('q'):\n",
    "        # waitKey() : 입력숫자를 통해서 동영상 재생속도를 조절\n",
    "        # ord : 하나의 문자를 인자로 받고 해당 문자에 해당하는 유니코드 정수를 반환\n",
    "        # 사용자가 입력한 키가 'q'라면 서로 비교해서 'q'의 유니코드와 같다면 반복문 종료(동영상 창닫기)\n",
    "        print('사용자 입력에 의해 종료합니다.')\n",
    "        break\n",
    "cap.release() # 동영상이 필요없으니깐 자원해제\n",
    "cv2.destroyAllWindows() # 모든 창 닫기"
   ]
  },
  {
   "cell_type": "markdown",
   "id": "e4dcee0a",
   "metadata": {},
   "source": [
    "## 카메라 출력"
   ]
  },
  {
   "cell_type": "code",
   "execution_count": 4,
   "id": "86baa5d1",
   "metadata": {},
   "outputs": [],
   "source": [
    "import cv2\n",
    "cap = cv2.VideoCapture(0) # 0번째 카메라 장치(Device ID)\n",
    "\n",
    "if not cap.isOpened(): # 카메라가 잘 열리지 않은 경우\n",
    "    exit() # 프로그램 종료\n",
    "    \n",
    "while True:\n",
    "    ret,frame = cap.read()\n",
    "    if not ret:\n",
    "        break\n",
    "    \n",
    "    cv2.imshow('camera',frame)\n",
    "    if cv2.waitKey(1) == ord('q'): # 사용자가 q를 눌렀을 경우\n",
    "        break\n",
    "cap.release()\n",
    "cv2.destroyAllWindows() "
   ]
  }
 ],
 "metadata": {
  "kernelspec": {
   "display_name": "Python 3 (ipykernel)",
   "language": "python",
   "name": "python3"
  },
  "language_info": {
   "codemirror_mode": {
    "name": "ipython",
    "version": 3
   },
   "file_extension": ".py",
   "mimetype": "text/x-python",
   "name": "python",
   "nbconvert_exporter": "python",
   "pygments_lexer": "ipython3",
   "version": "3.9.12"
  }
 },
 "nbformat": 4,
 "nbformat_minor": 5
}
