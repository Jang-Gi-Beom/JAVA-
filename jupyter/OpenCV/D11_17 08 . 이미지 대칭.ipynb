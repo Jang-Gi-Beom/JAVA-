{
 "cells": [
  {
   "cell_type": "markdown",
   "id": "b6ba53f7",
   "metadata": {},
   "source": [
    "# 8. 이미지 대칭\n",
    "\n",
    "불러온 이미지를 180도로 뒤집거나 가로,세로 동시에 뒤집거나"
   ]
  },
  {
   "cell_type": "markdown",
   "id": "485739cf",
   "metadata": {},
   "source": [
    "## 좌우 대칭"
   ]
  },
  {
   "cell_type": "code",
   "execution_count": 1,
   "id": "094cb068",
   "metadata": {},
   "outputs": [],
   "source": [
    "import cv2\n",
    "img = cv2.imread('img.jpg')\n",
    "flip_horizontal = cv2.flip(img,1) # 숫자부분 => flipCode라고 함\n",
    "# code가 0보다 크면 좌우 대칭\n",
    "\n",
    "cv2.imshow('img',img)\n",
    "cv2.imshow('flip_horizontal',flip_horizontal)\n",
    "cv2.waitKey(0)\n",
    "cv2.destroyAllWindows()"
   ]
  },
  {
   "cell_type": "markdown",
   "id": "e95c4256",
   "metadata": {},
   "source": [
    "##  상하 대칭"
   ]
  },
  {
   "cell_type": "code",
   "execution_count": 2,
   "id": "d59705a9",
   "metadata": {},
   "outputs": [],
   "source": [
    "import cv2\n",
    "img = cv2.imread('img.jpg')\n",
    "flip_vertical = cv2.flip(img,0) # code가 0 이면 상하 대칭 \n",
    "\n",
    "cv2.imshow('img',img)\n",
    "cv2.imshow('flip_vertical',flip_vertical)\n",
    "cv2.waitKey(0)\n",
    "cv2.destroyAllWindows()"
   ]
  },
  {
   "cell_type": "markdown",
   "id": "7bb7874b",
   "metadata": {},
   "source": [
    "## 상하 좌우 대칭"
   ]
  },
  {
   "cell_type": "code",
   "execution_count": 3,
   "id": "5dc16a49",
   "metadata": {},
   "outputs": [],
   "source": [
    "import cv2\n",
    "img = cv2.imread('img.jpg')\n",
    "flip_both = cv2.flip(img,-1) # code가 0보다 작으면 상하좌우 대칭\n",
    "\n",
    "cv2.imshow('img',img)\n",
    "cv2.imshow('flip_both',flip_both)\n",
    "cv2.waitKey(0)\n",
    "cv2.destroyAllWindows()"
   ]
  },
  {
   "cell_type": "code",
   "execution_count": null,
   "id": "2084889b",
   "metadata": {},
   "outputs": [],
   "source": []
  }
 ],
 "metadata": {
  "kernelspec": {
   "display_name": "Python 3 (ipykernel)",
   "language": "python",
   "name": "python3"
  },
  "language_info": {
   "codemirror_mode": {
    "name": "ipython",
    "version": 3
   },
   "file_extension": ".py",
   "mimetype": "text/x-python",
   "name": "python",
   "nbconvert_exporter": "python",
   "pygments_lexer": "ipython3",
   "version": "3.9.12"
  }
 },
 "nbformat": 4,
 "nbformat_minor": 5
}
