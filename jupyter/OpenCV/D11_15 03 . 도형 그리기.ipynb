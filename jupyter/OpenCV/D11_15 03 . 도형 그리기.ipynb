{
 "cells": [
  {
   "cell_type": "markdown",
   "id": "a9bde111",
   "metadata": {},
   "source": [
    "# 3. 도형 그리기"
   ]
  },
  {
   "cell_type": "markdown",
   "id": "68d342f6",
   "metadata": {},
   "source": [
    "## 빈 스케치북 만들기"
   ]
  },
  {
   "cell_type": "code",
   "execution_count": 1,
   "id": "9783aa3f",
   "metadata": {},
   "outputs": [],
   "source": [
    "import cv2\n",
    "import numpy as np\n",
    "# 세로 480 x 가로 640 , 3 Channel(RGB)에 해당하는 스케치북 만들기\n",
    "img = np.zeros((480,640,3),dtype=np.uint8)\n",
    "#img[:] = (255,255,255) # 전체 공간을 흰 색으로 채우기\n",
    "#print(img)\n",
    "cv2.imshow('img',img)\n",
    "cv2.waitKey(0)\n",
    "cv2.destroyAllWindows()"
   ]
  },
  {
   "cell_type": "markdown",
   "id": "f66be197",
   "metadata": {},
   "source": [
    "## 일부영역 색칠"
   ]
  },
  {
   "cell_type": "code",
   "execution_count": 2,
   "id": "9a312121",
   "metadata": {},
   "outputs": [],
   "source": [
    "import cv2\n",
    "import numpy as np\n",
    "img = np.zeros((480,640,3),dtype=np.uint8)\n",
    "img[100:200,200:300] = (255,255,255)\n",
    "# 세로 영역 :100~200 , 가로 영역 : 200~300\n",
    "cv2.imshow('img',img)\n",
    "cv2.waitKey(0)\n",
    "cv2.destroyAllWindows()"
   ]
  },
  {
   "cell_type": "markdown",
   "id": "a0a34b6b",
   "metadata": {},
   "source": [
    "## 직선\n",
    "직선의 종류 (line type)\n",
    "\n",
    "1. cv2.LINE_4 : 상하좌우 4 방향으로 연결된 선\n",
    "2. cv2.LINE_8 : 대각선을 포함한 8 방향으로 연결된 선(기본값)\n",
    "3. cv2.LINE_AA : 부드러운 선(anti-aliasing)"
   ]
  },
  {
   "cell_type": "code",
   "execution_count": 3,
   "id": "a6fabd59",
   "metadata": {},
   "outputs": [],
   "source": [
    "import cv2\n",
    "import numpy as np\n",
    "img = np.zeros((480,640,3),dtype=np.uint8)\n",
    "\n",
    "COLOR = (0,255,255) # BGR : yellow 색깔\n",
    "THICKNESS = 3 # 두께\n",
    "cv2.line(img,(50,100), (400,50) ,COLOR,THICKNESS,cv2.LINE_8)\n",
    "cv2.line(img,(50,200), (400,150) ,COLOR,THICKNESS,cv2.LINE_4)\n",
    "cv2.line(img,(50,300), (400,250) ,COLOR,THICKNESS,cv2.LINE_AA)\n",
    "# 그릴위치,시작점,끝점, 색깔, 두께 , 선종류\n",
    "\n",
    "cv2.imshow('img',img)\n",
    "cv2.waitKey(0)\n",
    "cv2.destroyAllWindows()"
   ]
  },
  {
   "cell_type": "markdown",
   "id": "bc4f8a2b",
   "metadata": {},
   "source": [
    "## 원"
   ]
  },
  {
   "cell_type": "code",
   "execution_count": 4,
   "id": "fe117921",
   "metadata": {},
   "outputs": [],
   "source": [
    "import cv2\n",
    "import numpy as np\n",
    "img = np.zeros((480,640,3),dtype=np.uint8)\n",
    "\n",
    "COLOR = (255,255,0) # BGR : 옥색\n",
    "RADIUS = 50 # 반지름\n",
    "THICKNESS = 10 # 두께\n",
    "cv2.circle(img,(200,100),RADIUS,COLOR,THICKNESS,cv2.LINE_AA) # 속이 빈 원\n",
    "# 그릴 위치, 원의 중심점, 반지름,색깔 ,두께,선 종류\n",
    "cv2.circle(img,(400,100),RADIUS,COLOR,cv2.FILLED,cv2.LINE_AA) # 속이 꽉찬 원\n",
    "cv2.imshow('img',img)\n",
    "cv2.waitKey(0)\n",
    "cv2.destroyAllWindows()"
   ]
  },
  {
   "cell_type": "markdown",
   "id": "f01c0a8a",
   "metadata": {},
   "source": [
    "## 사각형"
   ]
  },
  {
   "cell_type": "code",
   "execution_count": 5,
   "id": "f71674a9",
   "metadata": {},
   "outputs": [],
   "source": [
    "import cv2\n",
    "import numpy as np\n",
    "img = np.zeros((480,640,3),dtype=np.uint8)\n",
    "\n",
    "COLOR = (0,255,0) # BGR : 초록색\n",
    "THICKNESS = 3 # 두께\n",
    "\n",
    "cv2.rectangle(img,(100,100),(200,200),COLOR,THICKNESS) # 속이 빈 사각형\n",
    "# 그릴위치,왼쪽 위 좌표, 오른쪽 아래 좌표,색깔,두께\n",
    "\n",
    "cv2.rectangle(img,(300,100),(400,300),COLOR,cv2.FILLED) # 꽉 찬 사각형\n",
    "cv2.imshow('img',img)\n",
    "cv2.waitKey(0)\n",
    "cv2.destroyAllWindows()"
   ]
  },
  {
   "cell_type": "markdown",
   "id": "92eb6c36",
   "metadata": {},
   "source": [
    "## 다각형"
   ]
  },
  {
   "cell_type": "code",
   "execution_count": 13,
   "id": "1f30053b",
   "metadata": {},
   "outputs": [],
   "source": [
    "import cv2\n",
    "import numpy as np\n",
    "img = np.zeros((480,640,3),dtype=np.uint8)\n",
    "\n",
    "COLOR = (0,0,255) # BGR : 빨간색\n",
    "THICKNESS = 3 # 두께\n",
    "\n",
    "# 다각형은 각각 점을 지정해야 함\n",
    "pts1 = np.array([[100,100],[200,100],[100,200]])\n",
    "pts2 = np.array([[200,100],[300,100],[300,200]])\n",
    "\n",
    "# cv2.polylines(img,[pts1],True,COLOR,THICKNESS,cv2.LINE_AA)\n",
    "# cv2.polylines(img,[pts2],True,COLOR,THICKNESS,cv2.LINE_AA)\n",
    "cv2.polylines(img,[pts1,pts2],True,COLOR,THICKNESS,cv2.LINE_AA) # 속이 빈 다각형\n",
    "# 그릴위치,그릴 좌표들, 닫힘 여부,색깔,두께,선 종류\n",
    "# True로  시작점과 끝점을 연결 False는 연결x\n",
    "# 두 번째에 들어가는 값은 리스트형태로 묶어서 해야 함\n",
    "\n",
    "pts3 = np.array([[ [100,300],[200,300],[100,400] ],[[200,300],[300,300] ,[300,400] ]])\n",
    "\n",
    "cv2.fillPoly(img,pts3,COLOR,cv2.LINE_AA) # 꽉 찬 다각형\n",
    "# 그릴 위치, 그릴 좌표들 ,색깔 ,선 종류\n",
    "cv2.imshow('img',img)\n",
    "cv2.waitKey(0)\n",
    "cv2.destroyAllWindows()"
   ]
  }
 ],
 "metadata": {
  "kernelspec": {
   "display_name": "Python 3 (ipykernel)",
   "language": "python",
   "name": "python3"
  },
  "language_info": {
   "codemirror_mode": {
    "name": "ipython",
    "version": 3
   },
   "file_extension": ".py",
   "mimetype": "text/x-python",
   "name": "python",
   "nbconvert_exporter": "python",
   "pygments_lexer": "ipython3",
   "version": "3.9.12"
  }
 },
 "nbformat": 4,
 "nbformat_minor": 5
}
