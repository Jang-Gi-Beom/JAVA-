{
 "cells": [
  {
   "cell_type": "markdown",
   "id": "417fcc63",
   "metadata": {},
   "source": [
    "# 환경설정\n",
    "\n",
    "\n",
    "- 아나콘다 프롬프트에서 다음 명령 수행\n",
    "\n",
    "- pip install opencv-python"
   ]
  },
  {
   "cell_type": "code",
   "execution_count": 1,
   "id": "e050a1c4",
   "metadata": {},
   "outputs": [
    {
     "data": {
      "text/plain": [
       "'4.6.0'"
      ]
     },
     "execution_count": 1,
     "metadata": {},
     "output_type": "execute_result"
    }
   ],
   "source": [
    "import cv2\n",
    "cv2.__version__\n",
    "# 설치확인방법"
   ]
  },
  {
   "cell_type": "markdown",
   "id": "97363608",
   "metadata": {},
   "source": [
    "# OpenCV(Computer Vision)\n",
    "다양한 영상(이미지) / 동영상 처리에 사용되는 오픈소스 라이브러리"
   ]
  },
  {
   "cell_type": "markdown",
   "id": "d195c679",
   "metadata": {},
   "source": [
    "# 1. 이미지 출력"
   ]
  },
  {
   "cell_type": "code",
   "execution_count": 2,
   "id": "4e01b15a",
   "metadata": {},
   "outputs": [],
   "source": [
    "import cv2\n",
    "img = cv2.imread('img.jpg')\n",
    "# 불러온 이미지를 변수에 삽입\n",
    "cv2.imshow('img',img)\n",
    "# img 라는 이름의 창에 img를 표시\n",
    "# 출력 시 IMREAD_COLOR이 기본값\n",
    "cv2.waitKey(0) # 지정된 시간(ms) 동안 사용자 키 입력대기, 0이면 무한대기\n",
    "# waitKey() 의 리턴값은 키보드로 입력한 키와 동일한 아스키 값입니다. \n",
    "# 아스키값으로 어떤 key 를 눌렀는지 알 수 있습니다. 만약 72 가 리턴이 되면 대문자 “H” 키를 누른 것으로 판단\n",
    "cv2.destroyAllWindows()# 모든 창 닫기"
   ]
  },
  {
   "cell_type": "markdown",
   "id": "286b5618",
   "metadata": {},
   "source": [
    "## 읽기 옵션\n",
    "\n",
    "\n",
    "    1. cv2.IMREAD_COLOR: 컬러이미지,투명 영역은 무시(기본값)\n",
    "    2. cv2.IMREAD_GRAYSCALE : 흑백 이미지\n",
    "    3. cv2.IMREAD_UNCHANGED : 투명 영역까지 포함"
   ]
  },
  {
   "cell_type": "code",
   "execution_count": 3,
   "id": "6457c1d8",
   "metadata": {},
   "outputs": [],
   "source": [
    "import cv2\n",
    "img_color=cv2.imread('img.jpg',cv2.IMREAD_COLOR)\n",
    "img_gray=cv2.imread('img.jpg',cv2.IMREAD_GRAYSCALE)\n",
    "img_unchanged=cv2.imread('img.jpg',cv2.IMREAD_UNCHANGED)\n",
    "\n",
    "cv2.imshow('img_color',img_color)\n",
    "cv2.imshow('img_gray',img_gray)\n",
    "cv2.imshow('img_unchanged',img_unchanged)\n",
    "\n",
    "cv2.waitKey(0)\n",
    "cv2.destroyAllWindows()"
   ]
  },
  {
   "cell_type": "markdown",
   "id": "4089286f",
   "metadata": {},
   "source": [
    "## Shape\n",
    "이미지의 height,width,channel 정보\n"
   ]
  },
  {
   "cell_type": "code",
   "execution_count": 4,
   "id": "5ce65ac3",
   "metadata": {},
   "outputs": [
    {
     "data": {
      "text/plain": [
       "(424, 640, 3)"
      ]
     },
     "execution_count": 4,
     "metadata": {},
     "output_type": "execute_result"
    }
   ],
   "source": [
    "import cv2\n",
    "img = cv2.imread('img.jpg')\n",
    "img.shape # 이미지의 세로,가로,Channel"
   ]
  }
 ],
 "metadata": {
  "kernelspec": {
   "display_name": "Python 3 (ipykernel)",
   "language": "python",
   "name": "python3"
  },
  "language_info": {
   "codemirror_mode": {
    "name": "ipython",
    "version": 3
   },
   "file_extension": ".py",
   "mimetype": "text/x-python",
   "name": "python",
   "nbconvert_exporter": "python",
   "pygments_lexer": "ipython3",
   "version": "3.9.12"
  }
 },
 "nbformat": 4,
 "nbformat_minor": 5
}
