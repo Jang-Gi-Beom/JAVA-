{
 "cells": [
  {
   "cell_type": "markdown",
   "id": "d3b95241",
   "metadata": {},
   "source": [
    "# 11. 이미지 변형(흐림)"
   ]
  },
  {
   "cell_type": "markdown",
   "id": "e0424e6a",
   "metadata": {},
   "source": [
    "## 가우시간 블러\n",
    " 이미지를 흐리게 하면서 노이즈를 제거"
   ]
  },
  {
   "cell_type": "markdown",
   "id": "96ad17cc",
   "metadata": {},
   "source": [
    "커널 사이즈 변화에 따른 흐림"
   ]
  },
  {
   "cell_type": "code",
   "execution_count": 4,
   "id": "55958fab",
   "metadata": {},
   "outputs": [],
   "source": [
    "import cv2\n",
    "img = cv2.imread('img.jpg')\n",
    "\n",
    "# (3,3) , (5,5) ,(7,7)\n",
    "# 커널 사이즈가 점점 커질수록 흐려짐\n",
    "kernel_3 = cv2.GaussianBlur(img,(3,3),0)\n",
    "kernel_5 = cv2.GaussianBlur(img,(5,5),0)\n",
    "kernel_7 = cv2.GaussianBlur(img,(7,7),0)\n",
    "\n",
    "cv2.imshow('img',img)\n",
    "cv2.imshow('kernel_3',kernel_3)\n",
    "cv2.imshow('kernel_5',kernel_5)\n",
    "cv2.imshow('kernel_7',kernel_7)\n",
    "\n",
    "cv2.waitKey(0)\n",
    "cv2.destroyAllWindows()"
   ]
  },
  {
   "cell_type": "markdown",
   "id": "c4aedcb4",
   "metadata": {},
   "source": [
    "표준 편차 변화에 따른 흐림"
   ]
  },
  {
   "cell_type": "code",
   "execution_count": 5,
   "id": "d2bdc4ef",
   "metadata": {},
   "outputs": [],
   "source": [
    "import cv2\n",
    "img = cv2.imread('img.jpg')\n",
    "\n",
    "sigma_1 = cv2.GaussianBlur(img,(0,0),1) # sigmaX => 가우시안 커널의 x 방향의 표준 편차\n",
    "sigma_2 = cv2.GaussianBlur(img,(0,0),2)\n",
    "sigma_3 = cv2.GaussianBlur(img,(0,0),3)\n",
    "\n",
    "cv2.imshow('img',img)\n",
    "cv2.imshow('sigma_1',sigma_1)\n",
    "cv2.imshow('sigma_2',sigma_2)\n",
    "cv2.imshow('sigma_3',sigma_3)\n",
    "\n",
    "cv2.waitKey(0)\n",
    "cv2.destroyAllWindows()"
   ]
  },
  {
   "cell_type": "code",
   "execution_count": null,
   "id": "7b645a5b",
   "metadata": {},
   "outputs": [],
   "source": []
  }
 ],
 "metadata": {
  "kernelspec": {
   "display_name": "Python 3 (ipykernel)",
   "language": "python",
   "name": "python3"
  },
  "language_info": {
   "codemirror_mode": {
    "name": "ipython",
    "version": 3
   },
   "file_extension": ".py",
   "mimetype": "text/x-python",
   "name": "python",
   "nbconvert_exporter": "python",
   "pygments_lexer": "ipython3",
   "version": "3.9.12"
  }
 },
 "nbformat": 4,
 "nbformat_minor": 5
}
