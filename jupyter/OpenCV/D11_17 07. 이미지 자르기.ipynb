{
 "cells": [
  {
   "cell_type": "markdown",
   "id": "c26b4928",
   "metadata": {},
   "source": [
    "# 7. 이미지 자르기"
   ]
  },
  {
   "cell_type": "markdown",
   "id": "e28a0bd6",
   "metadata": {},
   "source": [
    "영역을 잘라서 새로운 윈도우(창) 표시"
   ]
  },
  {
   "cell_type": "code",
   "execution_count": 9,
   "id": "bc4484a3",
   "metadata": {},
   "outputs": [],
   "source": [
    "import cv2\n",
    "img = cv2.imread('img.jpg')\n",
    "# img.shape(424,640,3)\n",
    "\n",
    "crop = img[100:200,200:400] # 세로 기준 100:200, 가로 기준 300:400 까지 자름\n",
    "\n",
    "cv2.imshow('img',img) # 원본\n",
    "cv2.imshow('crop',crop) # 잘린 이미지\n",
    "cv2.waitKey(0)\n",
    "cv2.destroyAllWindows()"
   ]
  },
  {
   "cell_type": "markdown",
   "id": "ec78194a",
   "metadata": {},
   "source": [
    "영역을 잘라서 기존 윈도우에 표시"
   ]
  },
  {
   "cell_type": "code",
   "execution_count": 12,
   "id": "99f60f1c",
   "metadata": {},
   "outputs": [],
   "source": [
    "import cv2\n",
    "img = cv2.imread('img.jpg')\n",
    "\n",
    "\n",
    "crop = img[100:200,200:400] # 세로 기준 100:200, 가로 기준 300:400 까지 자름\n",
    "img[100:200,400:600] = crop\n",
    "# crop에서 잘라 낸 이미지를 원본 이미지에서 세로 기준 100:200, 가로 기준 300:400 위치에 붙임\n",
    "# 그러면 원본이미지  + 잘라낸 이미지를 창에 표시 \n",
    "\n",
    "cv2.imshow('img',img) # 원본\n",
    "cv2.waitKey(0)\n",
    "cv2.destroyAllWindows()"
   ]
  }
 ],
 "metadata": {
  "kernelspec": {
   "display_name": "Python 3 (ipykernel)",
   "language": "python",
   "name": "python3"
  },
  "language_info": {
   "codemirror_mode": {
    "name": "ipython",
    "version": 3
   },
   "file_extension": ".py",
   "mimetype": "text/x-python",
   "name": "python",
   "nbconvert_exporter": "python",
   "pygments_lexer": "ipython3",
   "version": "3.9.12"
  }
 },
 "nbformat": 4,
 "nbformat_minor": 5
}
