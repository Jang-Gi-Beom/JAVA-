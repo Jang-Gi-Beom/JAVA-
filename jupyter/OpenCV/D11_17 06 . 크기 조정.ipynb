{
 "cells": [
  {
   "cell_type": "markdown",
   "id": "f2665f12",
   "metadata": {},
   "source": [
    "# 6. 크기 조정"
   ]
  },
  {
   "cell_type": "markdown",
   "id": "0fc53da9",
   "metadata": {},
   "source": [
    "## 이미지"
   ]
  },
  {
   "cell_type": "markdown",
   "id": "53f03665",
   "metadata": {},
   "source": [
    "### 고정 크기로 설정"
   ]
  },
  {
   "cell_type": "code",
   "execution_count": 22,
   "id": "67c1742b",
   "metadata": {},
   "outputs": [],
   "source": [
    "import cv2\n",
    "img = cv2.imread('img.jpg')\n",
    "dst = cv2.resize(img,(400,500))\n",
    "# width,height 고정크기\n",
    "# resize : 내가 원하는 크기로 조절 가능\n",
    "cv2.imshow('img',img)\n",
    "cv2.imshow('resize',dst)\n",
    "cv2.waitKey(0)\n",
    "cv2.destroyAllWindows()"
   ]
  },
  {
   "cell_type": "markdown",
   "id": "04701736",
   "metadata": {},
   "source": [
    "### 비율로 설정"
   ]
  },
  {
   "cell_type": "code",
   "execution_count": 25,
   "id": "8c6f6ada",
   "metadata": {},
   "outputs": [],
   "source": [
    "import cv2\n",
    "img = cv2.imread('img.jpg')\n",
    "dst = cv2.resize(img,None,fx=0.5 ,fy=0.5) # x  y 비율 정의(0.5배로 축소)  , 두 번째는 None 값으로 줘야 한다.\n",
    "\n",
    "cv2.imshow('img',img)\n",
    "cv2.imshow('resize',dst)\n",
    "cv2.waitKey(0)\n",
    "cv2.destroyAllWindows()"
   ]
  },
  {
   "cell_type": "markdown",
   "id": "cf5bb2b9",
   "metadata": {},
   "source": [
    "### 보간법\n",
    "사진을 늘리거나 줄일 때 픽셀이 비워지는 공간 채우는 방법\n",
    "\n",
    "1.cv2.INTER_AREA : 크기를 줄일 때 사용\n",
    "\n",
    "\n",
    "2.cv2.INTER_CUBIC :  크기를 늘릴 때 사용(속도느림, 퀄리티 좋음)\n",
    "\n",
    "\n",
    "3.cv2.INTER_AREA : 크기를 늘릴 때 사용(기본값)"
   ]
  },
  {
   "cell_type": "markdown",
   "id": "67e671fd",
   "metadata": {},
   "source": [
    "#### 보간법 적용하여 축소"
   ]
  },
  {
   "cell_type": "code",
   "execution_count": 26,
   "id": "ee06c19d",
   "metadata": {},
   "outputs": [],
   "source": [
    "import cv2\n",
    "img = cv2.imread('img.jpg')\n",
    "dst = cv2.resize(img,None,fx=0.5 ,fy=0.5,interpolation=cv2.INTER_AREA) # x,y 비율 정의 (0.5배로 축소) \n",
    "\n",
    "cv2.imshow('img',img)\n",
    "cv2.imshow('resize',dst)\n",
    "cv2.waitKey(0)\n",
    "cv2.destroyAllWindows()"
   ]
  },
  {
   "cell_type": "markdown",
   "id": "5b9808a4",
   "metadata": {},
   "source": [
    "#### 보간법 적용하여 확대"
   ]
  },
  {
   "cell_type": "code",
   "execution_count": 7,
   "id": "6141bdff",
   "metadata": {},
   "outputs": [],
   "source": [
    "import cv2\n",
    "img = cv2.imread('img.jpg')\n",
    "dst = cv2.resize(img,None,fx=1.5 ,fy=1.5,interpolation=cv2.INTER_CUBIC) # x,y 비율 정의 (1.5배로 확대) \n",
    "\n",
    "cv2.imshow('img',img)\n",
    "cv2.imshow('resize',dst)\n",
    "cv2.waitKey(0)\n",
    "cv2.destroyAllWindows()"
   ]
  },
  {
   "cell_type": "markdown",
   "id": "0cc25bca",
   "metadata": {},
   "source": [
    "## 동영상"
   ]
  },
  {
   "cell_type": "markdown",
   "id": "20b72d1d",
   "metadata": {},
   "source": [
    "## 고정 크기로 설정"
   ]
  },
  {
   "cell_type": "code",
   "execution_count": 11,
   "id": "f8319855",
   "metadata": {},
   "outputs": [],
   "source": [
    "import cv2\n",
    "cap = cv2.VideoCapture('video.mp4')\n",
    "\n",
    "while cap.isOpened():\n",
    "    ret,frame = cap.read()\n",
    "    if not ret:\n",
    "        break\n",
    "    frame_resized = cv2.resize(frame,(400,500))\n",
    "    \n",
    "    cv2.imshow('video',frame_resized)\n",
    "    if cv2.waitKey(1) == ord('q'):\n",
    "        break\n",
    "cap.release()\n",
    "cv2.destroyAllWindows()"
   ]
  },
  {
   "cell_type": "markdown",
   "id": "21c85bc4",
   "metadata": {},
   "source": [
    "## 비율로 설정"
   ]
  },
  {
   "cell_type": "code",
   "execution_count": 18,
   "id": "f4bc4e47",
   "metadata": {},
   "outputs": [],
   "source": [
    "import cv2\n",
    "cap = cv2.VideoCapture('video.mp4')\n",
    "\n",
    "while cap.isOpened():\n",
    "    ret,frame = cap.read()\n",
    "    if not ret:\n",
    "        break\n",
    "    frame_resized = cv2.resize(frame,None ,fx=1.5,fy=1.5,interpolation=cv2.INTER_CUBIC)\n",
    "    \n",
    "    cv2.imshow('video',frame_resized)\n",
    "    if cv2.waitKey(1) == ord('q'):\n",
    "        break\n",
    "cap.release()\n",
    "cv2.destroyAllWindows()"
   ]
  }
 ],
 "metadata": {
  "kernelspec": {
   "display_name": "Python 3 (ipykernel)",
   "language": "python",
   "name": "python3"
  },
  "language_info": {
   "codemirror_mode": {
    "name": "ipython",
    "version": 3
   },
   "file_extension": ".py",
   "mimetype": "text/x-python",
   "name": "python",
   "nbconvert_exporter": "python",
   "pygments_lexer": "ipython3",
   "version": "3.9.12"
  }
 },
 "nbformat": 4,
 "nbformat_minor": 5
}
